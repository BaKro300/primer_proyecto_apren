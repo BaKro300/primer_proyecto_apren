{
 "cells": [
  {
   "cell_type": "markdown",
   "id": "d81a9666",
   "metadata": {},
   "source": [
    "# Inicio exploración de datos"
   ]
  },
  {
   "cell_type": "markdown",
   "id": "01945845",
   "metadata": {},
   "source": [
    "Cargo las librerías"
   ]
  },
  {
   "cell_type": "code",
   "execution_count": 1,
   "id": "4ac689d9",
   "metadata": {},
   "outputs": [],
   "source": [
    "import pandas as pd"
   ]
  },
  {
   "cell_type": "markdown",
   "id": "e036b345",
   "metadata": {},
   "source": [
    "Cargo las bases de datos"
   ]
  },
  {
   "cell_type": "code",
   "execution_count": 10,
   "id": "57c33f69",
   "metadata": {},
   "outputs": [],
   "source": [
    "# base usuarios_ecobici_2024.csv\n",
    "usua = pd.read_csv(\"../data/raw/usuarios_ecobici_2024.csv\", sep=\",\", encoding=\"utf_8\")\n",
    "\n",
    "# base badata_ecobici_recorridos_realizados_2024.csv\n",
    "reco = pd.read_csv(\"../data/raw/badata_ecobici_recorridos_realizados_2024.csv\", sep=\",\", encoding=\"utf-8\")\n",
    "\n"
   ]
  },
  {
   "cell_type": "markdown",
   "id": "b13638ae",
   "metadata": {},
   "source": [
    "## Muestro cantidad de filas y columnas de cada base"
   ]
  },
  {
   "cell_type": "markdown",
   "id": "c414c800",
   "metadata": {},
   "source": [
    "Base Usuarios Ecobici 2024"
   ]
  },
  {
   "cell_type": "code",
   "execution_count": 11,
   "id": "e197bb52",
   "metadata": {},
   "outputs": [
    {
     "name": "stdout",
     "output_type": "stream",
     "text": [
      "Cantidad de filas de base Usuarios Ecobici 2024: 197077\n",
      "Cantidad de columnas de la base base Usuarios Ecobici 2024: 5\n"
     ]
    }
   ],
   "source": [
    "usua_num_filas, usua_num_col = usua.shape\n",
    "print(f\"Cantidad de filas de base Usuarios Ecobici 2024: {usua_num_filas}\")\n",
    "print(f\"Cantidad de columnas de la base base Usuarios Ecobici 2024: {usua_num_col}\")"
   ]
  },
  {
   "cell_type": "markdown",
   "id": "47572875",
   "metadata": {},
   "source": [
    "Base Recorridos realizados 2024"
   ]
  },
  {
   "cell_type": "code",
   "execution_count": 12,
   "id": "ff06dbbd",
   "metadata": {},
   "outputs": [
    {
     "name": "stdout",
     "output_type": "stream",
     "text": [
      "Cantidad de filas de base Recorridos realizados 2024: 3559284\n",
      "cantidad de columnas de base Recorridos realizados 2024: 17\n"
     ]
    }
   ],
   "source": [
    "reco_num_filas, reco_num_col = reco.shape\n",
    "print(f\"Cantidad de filas de base Recorridos realizados 2024: {reco_num_filas}\")\n",
    "print(f\"cantidad de columnas de base Recorridos realizados 2024: {reco_num_col}\")"
   ]
  },
  {
   "cell_type": "markdown",
   "id": "ff33595b",
   "metadata": {},
   "source": [
    "## Muestro tipo de datos de cada base"
   ]
  },
  {
   "cell_type": "markdown",
   "id": "441c1245",
   "metadata": {},
   "source": [
    "Base Usuarios Ecobici 2024"
   ]
  },
  {
   "cell_type": "code",
   "execution_count": 13,
   "id": "2128a129",
   "metadata": {},
   "outputs": [
    {
     "name": "stdout",
     "output_type": "stream",
     "text": [
      "Tipo de datos de Base Usuarios Ecobici 2024\n",
      "id_usuario         int64\n",
      "genero_usuario    object\n",
      "edad_usuario       int64\n",
      "fecha_alta        object\n",
      "hora_alta         object\n",
      "dtype: object\n"
     ]
    }
   ],
   "source": [
    "print(\"Tipo de datos de Base Usuarios Ecobici 2024\")\n",
    "print(usua.dtypes)"
   ]
  },
  {
   "cell_type": "markdown",
   "id": "eef6ab27",
   "metadata": {},
   "source": [
    "Base Recorridos realizados 2024"
   ]
  },
  {
   "cell_type": "code",
   "execution_count": 14,
   "id": "fff45e26",
   "metadata": {},
   "outputs": [
    {
     "name": "stdout",
     "output_type": "stream",
     "text": [
      "Tipo de datos de Base Recorridos realizados 2024\n",
      "id_recorrido                    int64\n",
      "duracion_recorrido              int64\n",
      "fecha_origen_recorrido         object\n",
      "id_estacion_origen              int64\n",
      "nombre_estacion_origen         object\n",
      "direccion_estacion_origen      object\n",
      "long_estacion_origen          float64\n",
      "lat_estacion_origen           float64\n",
      "fecha_destino_recorrido        object\n",
      "id_estacion_destino             int64\n",
      "nombre_estacion_destino        object\n",
      "direccion_estacion_destino     object\n",
      "long_estacion_destino         float64\n",
      "lat_estacion_destino          float64\n",
      "id_usuario                    float64\n",
      "modelo_bicicleta               object\n",
      "genero                         object\n",
      "dtype: object\n"
     ]
    }
   ],
   "source": [
    "print(\"Tipo de datos de Base Recorridos realizados 2024\")\n",
    "print(reco.dtypes)"
   ]
  },
  {
   "cell_type": "markdown",
   "id": "9a72eeb2",
   "metadata": {},
   "source": [
    "## Muestro valores nulos por filas de cada base"
   ]
  },
  {
   "cell_type": "markdown",
   "id": "034fb7a1",
   "metadata": {},
   "source": [
    "Base Usuarios Ecobici 2024"
   ]
  },
  {
   "cell_type": "code",
   "execution_count": 15,
   "id": "971a8743",
   "metadata": {},
   "outputs": [
    {
     "name": "stdout",
     "output_type": "stream",
     "text": [
      "Valores nulos de base Base Usuarios Ecobici 2024\n",
      "id_usuario        0\n",
      "genero_usuario    0\n",
      "edad_usuario      0\n",
      "fecha_alta        0\n",
      "hora_alta         0\n",
      "dtype: int64\n"
     ]
    }
   ],
   "source": [
    "print(\"Valores nulos de base Base Usuarios Ecobici 2024\")\n",
    "print(usua.isnull().sum())"
   ]
  },
  {
   "cell_type": "markdown",
   "id": "fcdb37d2",
   "metadata": {},
   "source": [
    "Base Recorridos realizados 2024"
   ]
  },
  {
   "cell_type": "code",
   "execution_count": 18,
   "id": "eca0a83e",
   "metadata": {},
   "outputs": [
    {
     "name": "stdout",
     "output_type": "stream",
     "text": [
      "Valores nulos en Base Recorridos realizados 2024\n",
      "id_recorrido                      0\n",
      "duracion_recorrido                0\n",
      "fecha_origen_recorrido            0\n",
      "id_estacion_origen                0\n",
      "nombre_estacion_origen            0\n",
      "direccion_estacion_origen         0\n",
      "long_estacion_origen              0\n",
      "lat_estacion_origen               0\n",
      "fecha_destino_recorrido        3379\n",
      "id_estacion_destino               0\n",
      "nombre_estacion_destino           0\n",
      "direccion_estacion_destino        0\n",
      "long_estacion_destino             0\n",
      "lat_estacion_destino              0\n",
      "id_usuario                        0\n",
      "modelo_bicicleta                  0\n",
      "genero                        11946\n",
      "dtype: int64\n"
     ]
    }
   ],
   "source": [
    "print(\"Valores nulos en Base Recorridos realizados 2024\")\n",
    "print(reco.isnull().sum())"
   ]
  },
  {
   "cell_type": "markdown",
   "id": "6cecc6c9",
   "metadata": {},
   "source": [
    "Observo que en la base Usuarios Ecobici 2024 no hay valores null, y en Recorridos realizados 2024 hay valores null en las columnas fecha_destino_recorrido y genero, aunque al tratarse de una base con mas de 3.500.000 de datos esos valores no representan ni 0,5%"
   ]
  }
 ],
 "metadata": {
  "kernelspec": {
   "display_name": "Python 3",
   "language": "python",
   "name": "python3"
  },
  "language_info": {
   "codemirror_mode": {
    "name": "ipython",
    "version": 3
   },
   "file_extension": ".py",
   "mimetype": "text/x-python",
   "name": "python",
   "nbconvert_exporter": "python",
   "pygments_lexer": "ipython3",
   "version": "3.10.1"
  }
 },
 "nbformat": 4,
 "nbformat_minor": 5
}
